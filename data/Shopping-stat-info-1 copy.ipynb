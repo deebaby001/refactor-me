{
 "cells": [
  {
   "cell_type": "code",
   "execution_count": 2,
   "metadata": {},
   "outputs": [],
   "source": [
    "import pandas as pd\n",
    "\n",
    "#df = pd.read_csv('data/raw/shopping_behavior_updated.csv')\n",
    "\n",
    "df = pd.read_csv('C:/Users/deema/Desktop/SpecialLab/refactor-me/data/raw/shopping_behavior_updated.csv')"
   ]
  },
  {
   "cell_type": "code",
   "execution_count": 3,
   "metadata": {},
   "outputs": [
    {
     "data": {
      "text/html": [
       "<div>\n",
       "<style scoped>\n",
       "    .dataframe tbody tr th:only-of-type {\n",
       "        vertical-align: middle;\n",
       "    }\n",
       "\n",
       "    .dataframe tbody tr th {\n",
       "        vertical-align: top;\n",
       "    }\n",
       "\n",
       "    .dataframe thead th {\n",
       "        text-align: right;\n",
       "    }\n",
       "</style>\n",
       "<table border=\"1\" class=\"dataframe\">\n",
       "  <thead>\n",
       "    <tr style=\"text-align: right;\">\n",
       "      <th></th>\n",
       "      <th>A</th>\n",
       "      <th>F</th>\n",
       "    </tr>\n",
       "  </thead>\n",
       "  <tbody>\n",
       "    <tr>\n",
       "      <th>count</th>\n",
       "      <td>3.0</td>\n",
       "      <td>3.0</td>\n",
       "    </tr>\n",
       "    <tr>\n",
       "      <th>mean</th>\n",
       "      <td>2.0</td>\n",
       "      <td>17.0</td>\n",
       "    </tr>\n",
       "    <tr>\n",
       "      <th>std</th>\n",
       "      <td>1.0</td>\n",
       "      <td>1.0</td>\n",
       "    </tr>\n",
       "    <tr>\n",
       "      <th>min</th>\n",
       "      <td>1.0</td>\n",
       "      <td>16.0</td>\n",
       "    </tr>\n",
       "    <tr>\n",
       "      <th>25%</th>\n",
       "      <td>1.5</td>\n",
       "      <td>16.5</td>\n",
       "    </tr>\n",
       "    <tr>\n",
       "      <th>50%</th>\n",
       "      <td>2.0</td>\n",
       "      <td>17.0</td>\n",
       "    </tr>\n",
       "    <tr>\n",
       "      <th>75%</th>\n",
       "      <td>2.5</td>\n",
       "      <td>17.5</td>\n",
       "    </tr>\n",
       "    <tr>\n",
       "      <th>max</th>\n",
       "      <td>3.0</td>\n",
       "      <td>18.0</td>\n",
       "    </tr>\n",
       "  </tbody>\n",
       "</table>\n",
       "</div>"
      ],
      "text/plain": [
       "         A     F\n",
       "count  3.0   3.0\n",
       "mean   2.0  17.0\n",
       "std    1.0   1.0\n",
       "min    1.0  16.0\n",
       "25%    1.5  16.5\n",
       "50%    2.0  17.0\n",
       "75%    2.5  17.5\n",
       "max    3.0  18.0"
      ]
     },
     "execution_count": 3,
     "metadata": {},
     "output_type": "execute_result"
    }
   ],
   "source": [
    "#df = pd.DataFrame({'A': [1, 2, 3], 'B': [4, 5, 6], 'C': [7, 8, 9]}) # Just an EXAMPLE\n",
    "#For the Purchase Amount (USD) column and the Age column for the following is the: mean,median,std,max,min\n",
    "df = pd.DataFrame({'A': [1, 2, 3], 'F':[16,17,18]})\n",
    "df.describe()\n"
   ]
  },
  {
   "cell_type": "markdown",
   "metadata": {},
   "source": []
  },
  {
   "cell_type": "code",
   "execution_count": 8,
   "metadata": {},
   "outputs": [
    {
     "data": {
      "text/html": [
       "<div>\n",
       "<style scoped>\n",
       "    .dataframe tbody tr th:only-of-type {\n",
       "        vertical-align: middle;\n",
       "    }\n",
       "\n",
       "    .dataframe tbody tr th {\n",
       "        vertical-align: top;\n",
       "    }\n",
       "\n",
       "    .dataframe thead th {\n",
       "        text-align: right;\n",
       "    }\n",
       "</style>\n",
       "<table border=\"1\" class=\"dataframe\">\n",
       "  <thead>\n",
       "    <tr style=\"text-align: right;\">\n",
       "      <th></th>\n",
       "      <th>Season</th>\n",
       "    </tr>\n",
       "  </thead>\n",
       "  <tbody>\n",
       "    <tr>\n",
       "      <th>count</th>\n",
       "      <td>4</td>\n",
       "    </tr>\n",
       "    <tr>\n",
       "      <th>unique</th>\n",
       "      <td>4</td>\n",
       "    </tr>\n",
       "    <tr>\n",
       "      <th>top</th>\n",
       "      <td>Winter</td>\n",
       "    </tr>\n",
       "    <tr>\n",
       "      <th>freq</th>\n",
       "      <td>1</td>\n",
       "    </tr>\n",
       "  </tbody>\n",
       "</table>\n",
       "</div>"
      ],
      "text/plain": [
       "        Season\n",
       "count        4\n",
       "unique       4\n",
       "top     Winter\n",
       "freq         1"
      ]
     },
     "execution_count": 8,
     "metadata": {},
     "output_type": "execute_result"
    }
   ],
   "source": [
    "#Group by Seasons to find the mean,median,std,max,min \n",
    "import pandas as pd\n",
    "df = pd.read_csv('C:/Users/deema/Desktop/SpecialLab/refactor-me/data/raw/shopping_behavior_updated.csv')\n",
    "df = pd.DataFrame({'Season': ['Winter', 'Spring', 'Summer', 'Fall']})\n",
    "grouped_df = df.groupby(['Season'])\n",
    "df.describe()\n",
    "\n"
   ]
  },
  {
   "cell_type": "code",
   "execution_count": null,
   "metadata": {},
   "outputs": [],
   "source": [
    "#Exclude two columns from the Data Frame: Customer and Discount Applied\n",
    "#Needs REWORK\n",
    "df = pd.read_csv('C:/Users/deema/Desktop/SpecialLab/refactor-me/data/raw/shopping_behavior_updated.csv')\n",
    "#df = df.Drop['Customer ID','Discount Applied']\n",
    "#Dropping the columns\n",
    "df.drop(['CustomerID', 'DiscountApplied'], axis=1)\n",
    "print(df.column)"
   ]
  },
  {
   "cell_type": "code",
   "execution_count": null,
   "metadata": {},
   "outputs": [],
   "source": [
    "#Needs ReWork\n",
    "#Importing Pandas and Numpy\n",
    "import pandas as pd\n",
    "import numpy as ny\n",
    "#Reading the .csv file\n",
    "df = pd.read_csv('C:/Users/deema/Desktop/SpecialLab/refactor-me/data/raw/shopping_behavior_updated.csv')\n",
    "#Checking the shape of the file\n",
    "pd.DataFrame.shape\n",
    "print(df)\n",
    "#Checking for all of the Payment Methods used in NY to find out which one is the most popular\n",
    "df = pd.DataFrame({'Payment Method':['PayPal', 'Venmo','Bank Transfer','Cash', 'Credit Card', 'Debit Card'], 'Location': ['New York'], 'Amount': [1, 200 ]})\n",
    "#Grouping the Payment Methods and checking for th top values\n",
    "df = df.groupby('Payment Method').value_counts()\n",
    "#Getting the Average Sum\n",
    "df = df.agg('sum')\n",
    "#Printing the data file\n",
    "print(df)"
   ]
  }
 ],
 "metadata": {
  "kernelspec": {
   "display_name": "phase1",
   "language": "python",
   "name": "python3"
  },
  "language_info": {
   "codemirror_mode": {
    "name": "ipython",
    "version": 3
   },
   "file_extension": ".py",
   "mimetype": "text/x-python",
   "name": "python",
   "nbconvert_exporter": "python",
   "pygments_lexer": "ipython3",
   "version": "3.9.18"
  }
 },
 "nbformat": 4,
 "nbformat_minor": 2
}
